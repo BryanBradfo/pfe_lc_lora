{
 "cells": [
  {
   "cell_type": "markdown",
   "metadata": {},
   "source": [
    "# VGG16 Implementation without Old LC "
   ]
  },
  {
   "cell_type": "code",
   "execution_count": 1,
   "metadata": {},
   "outputs": [
    {
     "name": "stderr",
     "output_type": "stream",
     "text": [
      "c:\\Users\\Bradf\\anaconda3\\envs\\py310\\lib\\site-packages\\transformers\\utils\\generic.py:485: UserWarning: torch.utils._pytree._register_pytree_node is deprecated. Please use torch.utils._pytree.register_pytree_node instead.\n",
      "  _torch_pytree._register_pytree_node(\n"
     ]
    }
   ],
   "source": [
    "import glob\n",
    "import sys\n",
    "import os\n",
    "import time\n",
    "import numpy as np\n",
    "import pandas as pd\n",
    "import torch\n",
    "import torch.nn as nn\n",
    "import scipy as spy\n",
    "from torchvision import datasets\n",
    "from torchvision import transforms\n",
    "import matplotlib.pyplot as plt\n",
    "from torch.utils.data.sampler import SubsetRandomSampler\n",
    "import ssl\n",
    "import pickle, json\n",
    "import src.main as lc\n",
    "# import old_lc.main as olc\n",
    "from src.models.VGG16NoLite import VGG16NoLite\n",
    "import src.compression.deltaCompress as lc_compress\n",
    "from src.models.VGG16NoLite_LowRank import getBase, VGG16NoLite_LowRank, load_sd_decomp\n",
    "from src.utils.utils import evaluate_accuracy, lazy_restore, evaluate_compression\n",
    "import torchvision"
   ]
  },
  {
   "cell_type": "markdown",
   "metadata": {},
   "source": [
    "## Definition of Data Loader function"
   ]
  },
  {
   "cell_type": "code",
   "execution_count": 2,
   "metadata": {},
   "outputs": [],
   "source": [
    "# HDFP = \"./volumes/Ultra Touch\" # Load HHD\n",
    "\n",
    "# def data_loader():\n",
    "#     transform = transforms.Compose([transforms.ToTensor(), transforms.Resize(32, antialias=True)])\n",
    "\n",
    "#     trainset = datasets.MNIST(root='./data', train=True,\n",
    "#                                           download=True, transform=transform)\n",
    "#     # Reintroduce the 2000 datapoints model has not seen before.\n",
    "#     trainset.data = trainset.data.clone()[-2000:-1000]\n",
    "#     trainset.targets = trainset.targets.clone()[-2000:-1000]\n",
    "#     trainloader = torch.utils.data.DataLoader(trainset, batch_size = 32,\n",
    "#                                               shuffle=False, num_workers=2)\n",
    "\n",
    "#     testset = datasets.MNIST(root='./data', train=False,\n",
    "#                                          download=True, transform=transform)\n",
    "\n",
    "#     testset.data = trainset.data[-1000:]\n",
    "#     testset.targets = trainset.targets[-1000:]\n",
    "#     testloader = torch.utils.data.DataLoader(testset, batch_size = 32,\n",
    "#                                              shuffle=False, num_workers=2)\n",
    "    \n",
    "#     testloader = torch.utils.data.DataLoader(testset, batch_size = 32,\n",
    "#                                              shuffle=False, num_workers=2)\n",
    "    \n",
    "#     return trainloader, testloader\n",
    "\n",
    "HDFP = \"./volumes/Ultra Touch\"  # Placeholder for HDD path\n",
    "\n",
    "def data_loader():\n",
    "    # Définir les transformations\n",
    "    transform = transforms.Compose([\n",
    "        transforms.Resize((224, 224)),  # Redimensionner l'image à 224x224\n",
    "        transforms.Grayscale(num_output_channels=3),  # Convertir l'image en niveaux de gris à une image à 3 canaux\n",
    "        transforms.ToTensor(),  # Convertir en tensor\n",
    "        transforms.Normalize([0.485, 0.456, 0.406], [0.229, 0.224, 0.225])  # Normaliser avec les moyennes et écarts-types du pré-entraînement de VGG\n",
    "    ])\n",
    "\n",
    "    # Charger le dataset d'entraînement MNIST\n",
    "    trainset = datasets.MNIST(root='./data', train=True, download=True, transform=transform)\n",
    "    # Utiliser les dernières 1000 images pour l'entraînement\n",
    "    trainset.data = trainset.data.clone()[-7000:]\n",
    "    trainset.targets = trainset.targets.clone()[-7000:]\n",
    "    # trainset.data = trainset.data.clone()[-1000:]\n",
    "    # trainset.targets = trainset.targets.clone()[-1000:]\n",
    "    train_loader = torch.utils.data.DataLoader(trainset, batch_size=32, shuffle=True, num_workers=2)\n",
    "\n",
    "    # Charger le dataset de test MNIST\n",
    "    testset = datasets.MNIST(root='./data', train=False, download=True, transform=transform)\n",
    "    # Utiliser les premières 300 images du dataset de test\n",
    "    testset.data = testset.data.clone()[:300]\n",
    "    testset.targets = testset.targets.clone()[:300]\n",
    "    test_loader = torch.utils.data.DataLoader(testset, batch_size=32, shuffle=False, num_workers=2)\n",
    "    \n",
    "    return train_loader, test_loader\n",
    "\n",
    "\n",
    "# def data_loader():\n",
    "#     transform = transforms.Compose([\n",
    "#         transforms.ToTensor(),\n",
    "#         transforms.Normalize((0.1307,), (0.3081,))\n",
    "#     ])\n",
    "\n",
    "#     # Load the MNIST training dataset\n",
    "#     trainset = datasets.MNIST(root='./data', train=True, download=True, transform=transform)\n",
    "#     # Use the last 10,000 images for training\n",
    "#     trainset.data = trainset.data.clone()[-1000:]\n",
    "#     trainset.targets = trainset.targets.clone()[-1000:]\n",
    "#     # trainset.data = trainset.data.clone()[-58000:]\n",
    "#     # trainset.targets = trainset.targets.clone()[-58000:]\n",
    "#     train_loader = torch.utils.data.DataLoader(trainset, batch_size=4, shuffle=True, num_workers=2)\n",
    "\n",
    "#     # Load the MNIST test dataset\n",
    "#     testset = datasets.MNIST(root='./data', train=False, download=True, transform=transform)\n",
    "#     # Use the first 1,000 images from the test dataset\n",
    "#     testset.data = testset.data.clone()[:300]\n",
    "#     testset.targets = testset.targets.clone()[:300]\n",
    "#     test_loader = torch.utils.data.DataLoader(testset, batch_size=4, shuffle=False, num_workers=2)\n",
    "    \n",
    "#     return train_loader, test_loader"
   ]
  },
  {
   "cell_type": "markdown",
   "metadata": {},
   "source": [
    "## Calling MNIST dataset"
   ]
  },
  {
   "cell_type": "code",
   "execution_count": 3,
   "metadata": {},
   "outputs": [],
   "source": [
    "# Bypass using SSL unverified\n",
    "ssl._create_default_https_context = ssl._create_unverified_context\n",
    "# MNIST dataset \n",
    "train_loader, test_loader = data_loader()"
   ]
  },
  {
   "cell_type": "markdown",
   "metadata": {},
   "source": [
    "## Bypass the matplotlib error"
   ]
  },
  {
   "cell_type": "code",
   "execution_count": 4,
   "metadata": {},
   "outputs": [],
   "source": [
    "import os\n",
    "os.environ[\"KMP_DUPLICATE_LIB_OK\"]=\"TRUE\""
   ]
  },
  {
   "cell_type": "markdown",
   "metadata": {},
   "source": [
    "## Showing some images of the dataset we use"
   ]
  },
  {
   "cell_type": "code",
   "execution_count": 5,
   "metadata": {},
   "outputs": [
    {
     "name": "stderr",
     "output_type": "stream",
     "text": [
      "Clipping input data to the valid range for imshow with RGB data ([0..1] for floats or [0..255] for integers).\n"
     ]
    },
    {
     "data": {
      "image/png": "[encoded data removed]",
      "text/plain": [
       "<Figure size 640x480 with 1 Axes>"
      ]
     },
     "metadata": {},
     "output_type": "display_data"
    },
    {
     "name": "stdout",
     "output_type": "stream",
     "text": [
      "tensor(2) tensor(4) tensor(6)\n"
     ]
    }
   ],
   "source": [
    "# Adjust these values to match the normalization values used during the loading of your dataset\n",
    "mean = 0.1307\n",
    "std = 0.3081\n",
    "\n",
    "# Function to show an image\n",
    "def imshow(img):\n",
    "    # Adjusting unnormalization for potentially 3-channel images\n",
    "    img = img * std + mean  # Unnormalize\n",
    "    npimg = img.numpy()\n",
    "    plt.imshow(np.transpose(npimg, (1, 2, 0)))\n",
    "    plt.show()\n",
    "\n",
    "# Assuming train_loader is defined and loaded as before\n",
    "dataiter = iter(train_loader)\n",
    "images, labels = next(dataiter)\n",
    "\n",
    "# Show images\n",
    "imshow(torchvision.utils.make_grid(images[:3]))\n",
    "# Print labels\n",
    "print(' '.join('%5s' % labels[j] for j in range(3)))\n"
   ]
  },
  {
   "cell_type": "markdown",
   "metadata": {},
   "source": [
    "## Creation of folder to save the results (for plots and compression rate)"
   ]
  },
  {
   "cell_type": "code",
   "execution_count": 6,
   "metadata": {},
   "outputs": [],
   "source": [
    "SAVE_LOC = HDFP + \"/lobranch-snapshot/diffbitwidth-adaptive-rank/vgg16nolite/lobranch\"\n",
    "if not os.path.exists(SAVE_LOC):\n",
    "    os.makedirs(SAVE_LOC)\n",
    "\n",
    "# SAVE_LOC_OLC = HDFP + \"/lobranch-snapshot/diffbitwidth-adaptive-rank/vgg16nolite/old-lc\"\n",
    "# if not os.path.exists(SAVE_LOC_OLC):\n",
    "#     os.makedirs(SAVE_LOC_OLC)"
   ]
  },
  {
   "cell_type": "markdown",
   "metadata": {},
   "source": [
    "## Definition of the accuracy functions"
   ]
  },
  {
   "cell_type": "code",
   "execution_count": 7,
   "metadata": {},
   "outputs": [],
   "source": [
    "def accuracy_binary(model, evaluation_set):\n",
    "    model.eval()  # Switches the model to evaluation mode.\n",
    "\n",
    "    no_correct, no_seen = 0, 0  # Initialize counters for correct predictions and total samples seen.\n",
    "\n",
    "    with torch.no_grad():  # Disables gradient calculation.\n",
    "        for input, label in evaluation_set:  # Iterate over the evaluation dataset.\n",
    "            output = torch.sigmoid(model(input))  # Apply sigmoid to model output to get probabilities.\n",
    "            output = torch.where(output > 0.5, 1, 0)  # Threshold probabilities at 0.5 to decide between classes 0 and 1.\n",
    "            no_seen += label.size(0)  # Count the number of samples seen (batch size).\n",
    "            no_correct += (output == label).sum().item()  # Increment correct predictions by the number of matches in the batch.\n",
    "    \n",
    "    acc = no_correct / no_seen  # Calculate accuracy as the ratio of correct predictions to total samples.\n",
    "    model.train()  # Switch the model back to training mode.\n",
    "    return acc  # Return the computed accuracy.\n",
    "\n",
    "def accuracy_multiclass(model, evaluation_set):\n",
    "    model.eval()  # Switches the model to evaluation mode.\n",
    "\n",
    "    no_correct, no_seen = 0, 0  # Initialize counters for correct predictions and total samples seen.\n",
    "\n",
    "    with torch.no_grad():  # Disables gradient calculation.\n",
    "        for input, label in evaluation_set:  # Iterate over the evaluation dataset.\n",
    "            output = model(input)  # Get the raw logits from the model.\n",
    "            pred = output.argmax(dim=1, keepdim=True)  # Get the index of the max logit which represents the predicted class.\n",
    "            no_seen += label.size(0)  # Count the number of samples seen (batch size).\n",
    "            no_correct += pred.eq(label.view_as(pred)).sum().item()  # Compare predictions with true labels and sum up correct predictions.\n",
    "    \n",
    "    acc = no_correct / no_seen  # Calculate accuracy as the ratio of correct predictions to total samples.\n",
    "    model.train()  # Switch the model back to training mode.\n",
    "    return acc  # Return the computed accuracy.\n"
   ]
  },
  {
   "cell_type": "markdown",
   "metadata": {},
   "source": [
    "## Special function for the accuracy of the model on GPU "
   ]
  },
  {
   "cell_type": "code",
   "execution_count": 8,
   "metadata": {},
   "outputs": [],
   "source": [
    "def accuracy_multiclass_gpu(model, evaluation_set):\n",
    "    device = next(model.parameters()).device  # Get the device of the model\n",
    "    model.eval()  # Switches the model to evaluation mode.\n",
    "\n",
    "    no_correct, no_seen = 0, 0  # Initialize counters for correct predictions and total samples seen.\n",
    "\n",
    "    with torch.no_grad():  # Disables gradient calculation.\n",
    "        for inputs, labels in evaluation_set:  # Iterate over the evaluation dataset.\n",
    "            inputs, labels = inputs.to(device), labels.to(device)  # Move inputs and labels to the device of the model\n",
    "            output = model(inputs)  # Get the raw logits from the model.\n",
    "            pred = output.argmax(dim=1, keepdim=True)  # Get the index of the max logit which represents the predicted class.\n",
    "            no_seen += labels.size(0)  # Count the number of samples seen (batch size).\n",
    "            no_correct += pred.eq(labels.view_as(pred)).sum().item()  # Compare predictions with true labels and sum up correct predictions.\n",
    "    \n",
    "    acc = no_correct / no_seen  # Calculate accuracy as the ratio of correct predictions to total samples.\n",
    "    model.train()  # Switch the model back to training mode.\n",
    "    return acc  # Return the computed accuracy.\n"
   ]
  },
  {
   "cell_type": "markdown",
   "metadata": {},
   "source": [
    "## On GPU (Testing if it works with loss)"
   ]
  },
  {
   "cell_type": "code",
   "execution_count": 9,
   "metadata": {},
   "outputs": [
    {
     "name": "stdout",
     "output_type": "stream",
     "text": [
      "GPU available\n",
      "Epoch: 1 \tTraining Loss: 0.330346 \tValidation Loss: 0.082776\n",
      "Validation loss decreased (inf --> 0.082776). Saving model ...\n",
      "Epoch: 2 \tTraining Loss: 0.074766 \tValidation Loss: 0.067042\n",
      "Validation loss decreased (0.082776 --> 0.067042). Saving model ...\n",
      "Epoch: 3 \tTraining Loss: 0.054759 \tValidation Loss: 0.020681\n",
      "Validation loss decreased (0.067042 --> 0.020681). Saving model ...\n"
     ]
    },
    {
     "ename": "KeyboardInterrupt",
     "evalue": "",
     "output_type": "error",
     "traceback": [
      "\u001b[1;31m---------------------------------------------------------------------------\u001b[0m",
      "\u001b[1;31mKeyboardInterrupt\u001b[0m                         Traceback (most recent call last)",
      "Cell \u001b[1;32mIn[9], line 62\u001b[0m\n\u001b[0;32m     58\u001b[0m     loss\u001b[38;5;241m.\u001b[39mbackward()\n\u001b[0;32m     60\u001b[0m     optimizer\u001b[38;5;241m.\u001b[39mstep()\n\u001b[1;32m---> 62\u001b[0m     train_loss \u001b[38;5;241m+\u001b[39m\u001b[38;5;241m=\u001b[39m \u001b[43mloss\u001b[49m\u001b[38;5;241;43m.\u001b[39;49m\u001b[43mitem\u001b[49m\u001b[43m(\u001b[49m\u001b[43m)\u001b[49m\u001b[38;5;241m*\u001b[39mdata\u001b[38;5;241m.\u001b[39msize(\u001b[38;5;241m0\u001b[39m)\n\u001b[0;32m     64\u001b[0m model_for_checkpoint\u001b[38;5;241m.\u001b[39meval()\n\u001b[0;32m     66\u001b[0m \u001b[38;5;28;01mfor\u001b[39;00m data, target \u001b[38;5;129;01min\u001b[39;00m test_loader:\n",
      "\u001b[1;31mKeyboardInterrupt\u001b[0m: "
     ]
    }
   ],
   "source": [
    "# get the base model (VGG16NoLite)\n",
    "\n",
    "model_for_checkpoint = VGG16NoLite()\n",
    "\n",
    "\n",
    "# train model_for_checkpoint such that we compute the loss for the validation dataset and the training dataset (just for the sake of it), et take the checkpoint at the minimum validation loss\n",
    "\n",
    "# define the loss function\n",
    "\n",
    "criterion = nn.CrossEntropyLoss()\n",
    "\n",
    "# define the optimizer\n",
    "\n",
    "optimizer = torch.optim.SGD(model_for_checkpoint.parameters(), lr=0.001, momentum=0.9)\n",
    "\n",
    "# define the number of epochs\n",
    "\n",
    "n_epochs = 5\n",
    "\n",
    "# define the validation loss\n",
    "\n",
    "valid_loss_min = np.Inf\n",
    "\n",
    "# GPU check with print\n",
    "\n",
    "if torch.cuda.is_available():\n",
    "    print(\"GPU available\")\n",
    "\n",
    "else:\n",
    "    print(\"GPU not available\")\n",
    "\n",
    "    \n",
    "# move the model to the GPU\n",
    "device = torch.device(\"cuda\" if torch.cuda.is_available() else \"cpu\")\n",
    "\n",
    "\n",
    "# move the model to the GPU\n",
    "\n",
    "model_for_checkpoint.to(device)\n",
    "\n",
    "# train the model\n",
    "\n",
    "for epoch in range(1, n_epochs+1):\n",
    "    train_loss = 0.0\n",
    "    valid_loss = 0.0\n",
    "\n",
    "    model_for_checkpoint.train()\n",
    "\n",
    "    for data, target in train_loader:\n",
    "        data, target = data.to(device), target.to(device)\n",
    "\n",
    "        optimizer.zero_grad()\n",
    "\n",
    "        output = model_for_checkpoint(data)\n",
    "\n",
    "        loss = criterion(output, target)\n",
    "\n",
    "        loss.backward()\n",
    "\n",
    "        optimizer.step()\n",
    "\n",
    "        train_loss += loss.item()*data.size(0)\n",
    "\n",
    "    model_for_checkpoint.eval()\n",
    "\n",
    "    for data, target in test_loader:\n",
    "        data, target = data.to(device), target.to(device)\n",
    "\n",
    "        output = model_for_checkpoint(data)\n",
    "\n",
    "        loss = criterion(output, target)\n",
    "\n",
    "        valid_loss += loss.item()*data.size(0)\n",
    "\n",
    "    train_loss = train_loss/len(train_loader.sampler)\n",
    "    valid_loss = valid_loss/len(test_loader.sampler)\n",
    "\n",
    "    print('Epoch: {} \\tTraining Loss: {:.6f} \\tValidation Loss: {:.6f}'.format(epoch, train_loss, valid_loss))\n",
    "\n",
    "    if valid_loss <= valid_loss_min:\n",
    "        print('Validation loss decreased ({:.6f} --> {:.6f}). Saving model ...'.format(valid_loss_min, valid_loss))\n",
    "        # torch.save(model_for_checkpoint.state_dict(), 'model_for_checkpoint.pt')\n",
    "        valid_loss_min = valid_loss"
   ]
  },
  {
   "cell_type": "markdown",
   "metadata": {},
   "source": [
    "## On CPU (Testing if it works with loss)"
   ]
  },
  {
   "cell_type": "code",
   "execution_count": null,
   "metadata": {},
   "outputs": [],
   "source": [
    "# # get the base model (VGG16NoLite)\n",
    "\n",
    "# model_for_checkpoint = VGG16NoLite()\n",
    "\n",
    "\n",
    "# # train model_for_checkpoint such that we compute the loss for the validation dataset and the training dataset (just for the sake of it), et take the checkpoint at the minimum validation loss\n",
    "\n",
    "# # define the loss function\n",
    "\n",
    "# criterion = nn.CrossEntropyLoss()\n",
    "\n",
    "# # define the optimizer\n",
    "\n",
    "# optimizer = torch.optim.SGD(model_for_checkpoint.parameters(), lr=0.001, momentum=0.9)\n",
    "\n",
    "# # define the number of epochs\n",
    "\n",
    "# n_epochs = 10\n",
    "\n",
    "# # define the validation loss\n",
    "\n",
    "# valid_loss_min = np.Inf\n",
    "\n",
    "# # train the model\n",
    "\n",
    "# for epoch in range(1, n_epochs+1):\n",
    "#     train_loss = 0.0\n",
    "#     valid_loss = 0.0\n",
    "\n",
    "#     model_for_checkpoint.train()\n",
    "#     for data, target in train_loader:\n",
    "#         optimizer.zero_grad()\n",
    "#         output = model_for_checkpoint(data)\n",
    "#         loss = criterion(output, target)\n",
    "#         loss.backward()\n",
    "#         optimizer.step()\n",
    "#         train_loss += loss.item()*data.size(0)\n",
    "\n",
    "#     model_for_checkpoint.eval()\n",
    "#     for data, target in test_loader:\n",
    "#         output = model_for_checkpoint(data)\n",
    "#         loss = criterion(output, target)\n",
    "#         valid_loss += loss.item()*data.size(0)\n",
    "\n",
    "#     train_loss = train_loss/len(train_loader.sampler)\n",
    "#     valid_loss = valid_loss/len(test_loader.sampler)\n",
    "\n",
    "#     print('Epoch: {} \\tTraining Loss: {:.6f} \\tValidation Loss: {:.6f}'.format(epoch, train_loss, valid_loss))\n",
    "\n",
    "#     if valid_loss <= valid_loss_min:\n",
    "#         print('Validation loss decreased ({:.6f} --> {:.6f}).  Saving model ...'.format(valid_loss_min, valid_loss))\n",
    "#         # torch.save(model_for_checkpoint.state_dict(), SAVE_LOC + '/model.pt')\n",
    "#         valid_loss_min = valid_loss"
   ]
  },
  {
   "cell_type": "markdown",
   "metadata": {},
   "source": [
    "## Usual training on GPU (Creating branchpoints)"
   ]
  },
  {
   "cell_type": "code",
   "execution_count": null,
   "metadata": {},
   "outputs": [],
   "source": [
    "# Check if GPU is available and set the device accordingly\n",
    "device = torch.device(\"cuda\" if torch.cuda.is_available() else \"cpu\")\n",
    "print(\"Using device:\", device)\n",
    "\n",
    "# get the base model (VGG16NoLite) and move it to the chosen device\n",
    "model_for_checkpoint = VGG16NoLite().to(device)\n",
    "\n",
    "# creating branchpoints\n",
    "epochs = 10\n",
    "isLoop = True\n",
    "optimizer = torch.optim.SGD(model_for_checkpoint.parameters(), lr=0.001, momentum=0.9)  # momentum=0.9\n",
    "\n",
    "for epoch in range(epochs):\n",
    "    for iter, data in enumerate(train_loader):\n",
    "        inputs, labels = data\n",
    "        inputs, labels = inputs.to(device), labels.to(device)  # Move inputs and labels to the device\n",
    "\n",
    "        optimizer.zero_grad()\n",
    "        outputs = model_for_checkpoint(inputs)\n",
    "\n",
    "        # Here assuming your loss function and any other operation are compatible with CUDA tensors\n",
    "        loss = torch.nn.CrossEntropyLoss()(outputs, labels)\n",
    "        loss.backward()\n",
    "        optimizer.step()\n",
    "\n",
    "        if iter % 20 == 0:\n",
    "            print(\"Running validation for {} Epoch, {} Iteration...\".format(epoch, iter))\n",
    "            res = accuracy_multiclass_gpu(model_for_checkpoint, test_loader)  # Ensure this function also handles data on GPU\n",
    "\n",
    "            print(\"ACCURACY: {}\".format(res))\n",
    "            if res > 0.7:\n",
    "                # Move model to CPU before saving\n",
    "                model_for_checkpoint.to('cpu')\n",
    "                torch.save(model_for_checkpoint.state_dict(), HDFP + \"/lobranch-snapshot/branchpoints/vgg16nolite/branch_{}.pt\".format(res))\n",
    "                # Optionally, move model back to the original device (GPU) if further computation is needed\n",
    "                model_for_checkpoint.to(device)\n",
    "            if res > 0.9:\n",
    "                isLoop = False\n",
    "                break\n",
    "    if not isLoop:\n",
    "        break\n",
    "    print(\"Length of train_loader is: \", len(train_loader))\n"
   ]
  },
  {
   "cell_type": "markdown",
   "metadata": {},
   "source": [
    "## Usual training on CPU (Creating branchpoints)"
   ]
  },
  {
   "cell_type": "code",
   "execution_count": null,
   "metadata": {},
   "outputs": [],
   "source": [
    "# get the base model (VGG16NoLite)\n",
    "\n",
    "model_for_checkpoint = VGG16NoLite()\n",
    "\n",
    "# creating branchpoints : \n",
    "\n",
    "epochs = 10\n",
    "isLoop = True\n",
    "optimizer = torch.optim.SGD(model_for_checkpoint.parameters(), lr=0.001, momentum=0.9) # momentum=0.9\n",
    "\n",
    "for epoch in range(epochs):\n",
    "    for iter, data in enumerate(train_loader):\n",
    "        inputs, labels = data\n",
    "        # print(inputs, labels)\n",
    "        optimizer.zero_grad()\n",
    "        outputs = model_for_checkpoint(inputs)\n",
    "\n",
    "        # if self.config.loss_function == \"binary_cross_entropy\":\n",
    "        #     outputs = torch.sigmoid(outputs)\n",
    "        \n",
    "        # loss = loss_function(outputs, labels)\n",
    "        loss = torch.nn.CrossEntropyLoss()(outputs, labels)\n",
    "        loss.backward()\n",
    "        optimizer.step()\n",
    "\n",
    "        # print(\"Epoch {} | Iteration {} : Loss {}\".format(epoch, iter, loss.item()))\n",
    "        if iter % 20 == 0:\n",
    "            print(\"Running validation for {} Epoch, {} Iteration...\".format(epoch, iter))\n",
    "            # Previously: res = accuracy_binary(model_for_checkpoint, test_loader)\n",
    "            res = accuracy_multiclass(model_for_checkpoint, test_loader)\n",
    "\n",
    "            # res = accuracy_binary(model_for_checkpoint, test_loader)\n",
    "            \n",
    "            print(\"ACCURACY: {}\".format(res))\n",
    "            if res > 0.7:\n",
    "                torch.save(model_for_checkpoint.state_dict(), HDFP + \"/lobranch-snapshot/branchpoints/vgg16nolite/branch_{}.pt\".format(res))\n",
    "            if res > 0.9:\n",
    "                isLoop = False\n",
    "                break\n",
    "    if not isLoop:\n",
    "        break\n",
    "    print(\"Length of train_loader is: \", len(train_loader))"
   ]
  },
  {
   "cell_type": "markdown",
   "metadata": {},
   "source": [
    "## Exploiting branchpoints of the model"
   ]
  },
  {
   "cell_type": "markdown",
   "metadata": {},
   "source": [
    "### Call of the different models to compare"
   ]
  },
  {
   "cell_type": "code",
   "execution_count": null,
   "metadata": {},
   "outputs": [],
   "source": [
    "DECOMPOSED_LAYERS = ['classifier.0.weight', 'classifier.4.weight', 'classifier.8.weight']\n",
    "RANK = -1\n",
    "SCALING = -1\n",
    "BRANCH_ACC = \"0.831\"\n",
    "\n",
    "# Set up weights for original VGG16 model\n",
    "original = VGG16NoLite()\n",
    "model_original = VGG16NoLite()\n",
    "\n",
    "# Load from \"branch point\"\n",
    "BRANCH_LOC = HDFP + \"/lobranch-snapshot/branchpoints/vgg16nolite/branch_{}.pt\".format(BRANCH_ACC)\n",
    "original.load_state_dict(torch.load(BRANCH_LOC))\n",
    "model_original.load_state_dict(torch.load(BRANCH_LOC))\n"
   ]
  },
  {
   "cell_type": "markdown",
   "metadata": {},
   "source": [
    "### Whole state of the model"
   ]
  },
  {
   "cell_type": "code",
   "execution_count": null,
   "metadata": {},
   "outputs": [],
   "source": [
    "model_original.state_dict().keys()"
   ]
  },
  {
   "cell_type": "markdown",
   "metadata": {},
   "source": [
    "### Get the weights and bias as the base for the LoRA version of custom linear layers"
   ]
  },
  {
   "cell_type": "code",
   "execution_count": null,
   "metadata": {},
   "outputs": [],
   "source": [
    "w, b = getBase(model_original)"
   ]
  },
  {
   "cell_type": "markdown",
   "metadata": {},
   "source": [
    "### Paying attention to the bias shape if it is a column vector"
   ]
  },
  {
   "cell_type": "code",
   "execution_count": null,
   "metadata": {},
   "outputs": [],
   "source": [
    "for bias in b:\n",
    "    print(bias.shape)"
   ]
  },
  {
   "cell_type": "markdown",
   "metadata": {},
   "source": [
    "### Having a LoRA version of the model with the weight and bias of the custom linear layers"
   ]
  },
  {
   "cell_type": "code",
   "execution_count": null,
   "metadata": {},
   "outputs": [],
   "source": [
    "model = VGG16NoLite_LowRank(w, b, rank = RANK)"
   ]
  },
  {
   "cell_type": "markdown",
   "metadata": {},
   "source": [
    "### Loading and updating model state dictionary from Checkpoint"
   ]
  },
  {
   "cell_type": "code",
   "execution_count": null,
   "metadata": {},
   "outputs": [],
   "source": [
    "#########################################################################\n",
    "# load_sd_decomp(org_sd, model, decomposed_layers):                     #\n",
    "#     \"\"\"                                                               #                          \n",
    "#     @param org_sd : The state_dict when the model is ongoing.         #\n",
    "#     @param model : The decomp model with decomposed layers.           #\n",
    "#     @param decomposed_layers : The decomposed layers in decomp model. #\n",
    "#                                                                       #\n",
    "#     @return The new model with the old state dictionary loaded in.    #\n",
    "#     \"\"\"                                                               #\n",
    "#     new_sd = model.state_dict()                                       #\n",
    "#     for k, v in org_sd.items():                                       #\n",
    "#         if k not in decomposed_layers:                                #\n",
    "#             new_sd[k] = v                                             #\n",
    "#     model.load_state_dict(new_sd)                                     #\n",
    "#########################################################################\n",
    "\n",
    "# Create a new state dictionary for the model\n",
    "new_sd = model.state_dict()\n",
    "\n",
    "# Load the state dictionary from the checkpoint file located at BRANCH_LOC\n",
    "for k, v in torch.load(BRANCH_LOC).items():\n",
    "\n",
    "    # Uncomment to print the keys from the loaded state dictionary\n",
    "    # print(k)\n",
    "\n",
    "    # Check if the key is not in DECOMPOSED_LAYERS\n",
    "    if k not in DECOMPOSED_LAYERS:\n",
    "        # If the key is not in DECOMPOSED_LAYERS, assign the value v to the corresponding key k in the new state dictionary\n",
    "        new_sd[k] = v\n",
    "\n",
    "# Print the updated state dictionary\n",
    "print(new_sd)\n",
    "\n",
    "# Load the updated state dictionary into the model\n",
    "model.load_state_dict(new_sd)\n"
   ]
  },
  {
   "cell_type": "markdown",
   "metadata": {},
   "source": [
    "### Loading checkpoint, optimizer setup, and layer filtering"
   ]
  },
  {
   "cell_type": "code",
   "execution_count": null,
   "metadata": {},
   "outputs": [],
   "source": [
    "# Load state dictionary from checkpoint, excluding specified decomposed layers, and load it into the model\n",
    "load_sd_decomp(torch.load(BRANCH_LOC), model, DECOMPOSED_LAYERS)\n",
    "\n",
    "# Set the learning rate for the optimizer\n",
    "learning_rate = 0.001\n",
    "\n",
    "# Define an optimizer for the model's parameters with Stochastic Gradient Descent (SGD) and specified learning rate and momentum\n",
    "optimizer = torch.optim.SGD(model.parameters(), lr=learning_rate, momentum=0.9)\n",
    "\n",
    "# Define an optimizer for the original model's parameters with Stochastic Gradient Descent (SGD) and specified learning rate and momentum\n",
    "optimizer_full = torch.optim.SGD(model_original.parameters(), lr=learning_rate, momentum=0.9)"
   ]
  },
  {
   "cell_type": "code",
   "execution_count": null,
   "metadata": {},
   "outputs": [],
   "source": [
    "# Initialize lists to store the maximum and minimum values of the delta and decomposed delta\n",
    "delta_normal_max = []\n",
    "delta_normal_min = []\n",
    "delta_decomposed_max = []\n",
    "delta_decomposed_min = []\n",
    "\n",
    "# Initialize lists to store the maximum and minimum values of the compressed delta and decomposed delta\n",
    "full_accuracy = []\n",
    "decomposed_full_accuracy = []\n",
    "restored_accuracy = []\n",
    "lc_accuracy = []\n",
    "\n",
    "# Initialize the current iteration and set to 0\n",
    "current_iter = 0\n",
    "current_set = 0\n",
    "\n",
    "# Initialize the current iteration and set to 0 for the old LC method\n",
    "current_iter_old_lc = 0\n",
    "current_set_old_lc = 0\n",
    "\n",
    "# Define a function to evaluate the accuracy of the model on the test set\n",
    "acc = lambda x, y : (torch.max(x, 1)[1] == y).sum().item() / y.size(0)\n",
    "\n",
    "# Train the model for 20 epochs\n",
    "for epch in range(20):\n",
    "    # Iterate over the training data\n",
    "    for i, data in enumerate(train_loader, 0):\n",
    "        print(\"Epoch: {}, Iteration: {}\".format(epch, i))\n",
    "        \n",
    "        # Create a new set directory if it does not exist\n",
    "        set_path = \"/set_{}\".format(current_set)\n",
    "        if not os.path.exists(SAVE_LOC + set_path):\n",
    "            os.makedirs(SAVE_LOC + set_path)\n",
    "\n",
    "        # Check if it is the first iteration of the first epoch\n",
    "        if i == 0 and epch == 0: # first iteration, create baseline model\n",
    "            base, base_decomp = lc.extract_weights(model, SAVE_LOC + \n",
    "                                                       \"/set_{}\".format(current_set), DECOMPOSED_LAYERS)\n",
    "        # Check if it is a full snapshot\n",
    "        else:\n",
    "            # Check if the iteration is a multiple of 10\n",
    "            if i % 10 == 0: \n",
    "                # full snapshot!\n",
    "\n",
    "                new_model = lazy_restore(base, base_decomp, bias, VGG16NoLite(), \n",
    "                                          original.state_dict(), DECOMPOSED_LAYERS, rank = RANK, scaling = SCALING)\n",
    "                # Changing previous \"original model\" used to restore the loRA model.\n",
    "                original = new_model \n",
    "                \n",
    "                current_set += 1\n",
    "                current_iter = 0\n",
    "\n",
    "                # Create a new set directory if it does not exist\n",
    "                set_path = \"/set_{}\".format(current_set)\n",
    "                if not os.path.exists(SAVE_LOC + set_path):\n",
    "                    os.makedirs(SAVE_LOC + set_path)\n",
    "                \n",
    "                # Rebuilding LoRA layers => reset model!\n",
    "\n",
    "                # Get the base model weights and biases\n",
    "                w, b = getBase(original)\n",
    "                # Create a new model with the base weights and specified rank\n",
    "                model = VGG16NoLite_LowRank(w, b, rank = RANK)\n",
    "                # Optimizer for the model's parameters with Stochastic Gradient Descent (SGD) and specified learning rate\n",
    "                optimizer = torch.optim.SGD(model.parameters(), lr = learning_rate)\n",
    "                # Load state dictionary from full snapshot, including specified decomposed layers, and load it into the model\n",
    "                load_sd_decomp(original.state_dict(), model, DECOMPOSED_LAYERS)\n",
    "                # The base for all delta calculations\n",
    "                base, base_decomp = lc.extract_weights(model, SAVE_LOC + \n",
    "                                                       \"/set_{}\".format(current_set), DECOMPOSED_LAYERS)\n",
    "\n",
    "            # If it is not a full snapshot, perform delta compression\n",
    "            else:\n",
    "                # Delta-compression : The delta for the weights of the normal and decomposed layers.\n",
    "                # Also returns the full dictionary, which holds the bias.\n",
    "                delta, decomp_delta, bias = lc.generate_delta(base, \n",
    "                                                                base_decomp, model.state_dict(), DECOMPOSED_LAYERS)\n",
    "                \n",
    "                # Compressing the delta and decomposed delta\n",
    "                compressed_delta, full_delta, compressed_dcomp_delta, full_dcomp_delta  = lc.compress_delta(delta, \n",
    "                                                                                                            decomp_delta)\n",
    "                \n",
    "                # Saving checkpoint\n",
    "                lc.save_checkpoint(compressed_delta, compressed_dcomp_delta, bias, current_iter, SAVE_LOC + \n",
    "                                \"/set_{}\".format(current_set))\n",
    "    \n",
    "                # Update base and base_decomp\n",
    "                base = np.add(base, full_delta) # Replace base with latest for delta to accumulate.\n",
    "                base_decomp = np.add(full_dcomp_delta, base_decomp)\n",
    "\n",
    "                # Update current iteration\n",
    "                current_iter += 1\n",
    "            \n",
    "        # # ==========================\n",
    "        # # Saving using LC-Checkpoint\n",
    "        # # ==========================\n",
    "                \n",
    "        # if i == 0 and epch == 0:\n",
    "        #     cstate = model_original.state_dict()\n",
    "        #     set_path = \"/set_{}\".format(current_set_old_lc)\n",
    "        #     if not os.path.exists(SAVE_LOC_OLC + set_path):\n",
    "        #         os.makedirs(SAVE_LOC_OLC + set_path)\n",
    "        #     torch.save(cstate, SAVE_LOC_OLC + set_path + \"/initial_model.pt\")\n",
    "        #     prev_state = olc.extract_weights(model_original)\n",
    "        # else:\n",
    "        #     if i % 10 == 0:\n",
    "        #         cstate = model_original.state_dict()\n",
    "        #         current_set_old_lc += 1\n",
    "        #         current_iter_old_lc = 0\n",
    "        #         set_path = \"/set_{}\".format(current_set_old_lc)\n",
    "        #         if not os.path.exists(SAVE_LOC_OLC + set_path):\n",
    "        #             os.makedirs(SAVE_LOC_OLC + set_path)\n",
    "        #         torch.save(cstate, SAVE_LOC_OLC + set_path + \"/initial_model.pt\")\n",
    "        #         prev_state = olc.extract_weights(model_original)\n",
    "        #     else:\n",
    "        #         cstate = model_original.state_dict()\n",
    "        #         old_lc_delta, old_lc_bias, _ = olc.generate_delta(prev_state, cstate)\n",
    "        #         olc_compressed_delta, update_prev = olc.compress_data(old_lc_delta, num_bits = 3)\n",
    "        #         olc.save_checkpoint(SAVE_LOC_OLC + \"/set_{}\".format(current_set_old_lc), olc_compressed_delta, \n",
    "        #                             old_lc_bias, epch, current_iter_old_lc)\n",
    "        #         prev_state = np.add(prev_state, update_prev)\n",
    "        #         current_iter_old_lc += 1\n",
    "        \n",
    "        # ==========================\n",
    "        # Training on Low-Rank Model\n",
    "        # ==========================\n",
    "\n",
    "        # Get the inputs and labels\n",
    "        inputs, labels = data\n",
    "\n",
    "        # Zero the parameter gradients\n",
    "        optimizer.zero_grad()\n",
    "\n",
    "        # Forward + backward + optimize\n",
    "        outputs = model(inputs)\n",
    "        loss = torch.nn.functional.cross_entropy(outputs,labels)\n",
    "        loss.backward()\n",
    "        optimizer.step()\n",
    "            \n",
    "        # ======================\n",
    "        # Training on Full Model\n",
    "        # ======================\n",
    "\n",
    "        # Zero the parameter gradients\n",
    "        optimizer_full.zero_grad()\n",
    "\n",
    "        # Forward + backward + optimize\n",
    "        outputs_full = model_original(inputs)\n",
    "        loss_full = torch.nn.functional.cross_entropy(outputs_full,labels)\n",
    "        loss_full.backward()\n",
    "        optimizer_full.step()\n",
    "\n",
    "        # Print training accuracy every 20 iterations\n",
    "        if i % 20 == 0:\n",
    "            print(\"Training Accuracy | Decomposed: {}, Full : {}\".format(acc(outputs, labels), \n",
    "                                                                         acc(outputs_full, labels)))\n",
    "\n",
    "        # Evaluation every 5 iterations\n",
    "        if i != 0  and i % 5 == 0: # Evaluation on testing set\n",
    "\n",
    "            # Evaluate the accuracy of the model on the test set\n",
    "            full_accuracy.append(evaluate_accuracy(model_original, test_loader))\n",
    "\n",
    "            # Evaluate the accuracy of the model on the test set for decomposed model\n",
    "            decomposed_full_accuracy.append(evaluate_accuracy(model, test_loader))\n",
    "\n",
    "            # Restore the model from the full snapshot\n",
    "            restored_model = lazy_restore(base, base_decomp, bias, VGG16NoLite(), \n",
    "                                          original.state_dict(), DECOMPOSED_LAYERS, \n",
    "                                          rank = RANK, scaling = SCALING)\n",
    "\n",
    "            # Evaluate the accuracy of the restored model on the test set\n",
    "            restored_accuracy.append(evaluate_accuracy(restored_model, test_loader))\n",
    "\n",
    "            # Restore VGG16NoLite model from the old LC method\n",
    "            restored_lc_model = VGG16NoLite()\n",
    "            # restored_lc_model.load_state_dict(olc.restore_state_dict(prev_state, old_lc_bias, \n",
    "            #                                                       restored_model.state_dict()))\n",
    "            lc_accuracy.append(evaluate_accuracy(restored_lc_model, test_loader))\n",
    "            print(\"Full accuracy: {}, LC accuracy: {}, Decomposed-Full accuracy: {}, Decomposed-Restored accuracy: {}\".format(\n",
    "                full_accuracy[-1], lc_accuracy[-1], decomposed_full_accuracy[-1], restored_accuracy[-1]))"
   ]
  },
  {
   "cell_type": "markdown",
   "metadata": {},
   "source": [
    "## For recovery and not restart from scratch : having the plots and the results"
   ]
  },
  {
   "cell_type": "code",
   "execution_count": null,
   "metadata": {},
   "outputs": [],
   "source": [
    "import json\n",
    "\n",
    "# Open a file to save the data (if it exists, otherwise ignore this cell)\n",
    "with open(HDFP + \"/lobranch-snapshot/diffbitwidth-adaptive-rank/vgg16nolite/data.json\") as f:\n",
    "    data = json.load(f)\n",
    "\n",
    "# Update the data with the new values\n",
    "full_accuracy = data['full_acc']\n",
    "lc_accuracy = data[\"lc_restored_accuracy\"]\n",
    "restored_accuracy = data[\"decomposed_restored_accuracy\"]\n",
    "decomposed_full_accuracy = data[\"decomposed_full_accuracy\"]"
   ]
  },
  {
   "cell_type": "markdown",
   "metadata": {},
   "source": [
    "### Plotting the results"
   ]
  },
  {
   "cell_type": "code",
   "execution_count": null,
   "metadata": {},
   "outputs": [],
   "source": [
    "plt.figure(figsize = (30, 5))\n",
    "plt.title(\"VGG-16 No Lite, Accuracy, Branched @ {} Accuracy\".format(BRANCH_ACC))\n",
    "plt.plot(full_accuracy, label = \"Default VGG-16 No Lite\")\n",
    "# plt.plot(lc_accuracy, label = \"LC VGG-16\")\n",
    "plt.plot(decomposed_full_accuracy, label = \"dLoRA VGG-16 No Lite\")\n",
    "plt.plot(restored_accuracy, label = \"dLoRA + LC VGG-16 No Lite\")\n",
    "plt.xticks([x for x in range(0, 120) if x % 6 == 0], [x for x in range(0, 20)])\n",
    "plt.ylabel(\"Accuracy\")\n",
    "plt.xlabel(\"Epoch\")\n",
    "plt.legend()\n",
    "plt.show()"
   ]
  },
  {
   "cell_type": "code",
   "execution_count": null,
   "metadata": {},
   "outputs": [],
   "source": [
    "plt.figure(figsize = (30, 5))\n",
    "plt.title(\"VGG-16 No Lite, Accuracy, Branched @ {} Accuracy\".format(BRANCH_ACC))\n",
    "plt.plot(lc_accuracy, label = \"LC VGG-16 No Lite\")\n",
    "plt.xticks([x for x in range(0, 120) if x % 6 == 0], [x for x in range(0, 20)])\n",
    "plt.ylabel(\"Accuracy\")\n",
    "plt.xlabel(\"Epoch\")\n",
    "plt.legend()\n",
    "plt.show()"
   ]
  },
  {
   "cell_type": "markdown",
   "metadata": {},
   "source": [
    "### Plotting the absolute accuracy loss"
   ]
  },
  {
   "cell_type": "code",
   "execution_count": null,
   "metadata": {},
   "outputs": [],
   "source": [
    "rangex = [x for x in range(0, 120) if x % 6 == 0]\n",
    "rangey = [x for x in range(0, 20)]\n",
    "plt.figure(figsize = (40, 10))\n",
    "ax1 = plt.subplot(1, 2, 1)\n",
    "ax1.set_title(\"VGG-16 No Lite Absolute Accuracy Loss (Default VGG-16 vs LC + dLoRA VGG-16)\")\n",
    "plt.plot(np.abs(np.subtract(np.array(full_accuracy), \n",
    "                     np.array(restored_accuracy))), label = \"LC + dLoRA VGG-16 No Lite\")\n",
    "plt.plot(np.abs(np.subtract(np.array(full_accuracy), \n",
    "                     np.array(lc_accuracy))), label = \"LC VGG-16 No Lite\")\n",
    "plt.legend()\n",
    "plt.xticks(rangex, rangey)\n",
    "plt.ylabel(\"Absolute Accuracy Loss\")\n",
    "plt.xlabel(\"Epoch\")\n",
    "plt.axhline(y = 0.05, color = 'r')\n",
    "plt.ylim(0, 0.5)\n",
    "ax2 = plt.subplot(1, 2, 2)\n",
    "ax2.set_title(\"VGG-16 No Lite Absolute Restoration Accuracy Loss (LC + dLoRA VGG-16 No Lite & LC VGG-16 No Lite)\")\n",
    "plt.plot(np.abs(np.subtract(np.array(restored_accuracy), \n",
    "                     np.array(decomposed_full_accuracy))), label = \"LC + dLoRA VGG-16 No Lite\")\n",
    "plt.plot(np.abs(np.subtract(np.array(full_accuracy), \n",
    "                     np.array(lc_accuracy))), label = \"LC VGG-16 No Lite\")\n",
    "plt.legend()\n",
    "plt.axhline(y = 0.05, color = 'r')\n",
    "plt.xticks(rangex, rangey)\n",
    "plt.ylim(0, 0.5)\n",
    "plt.ylabel(\"Absolute Accuracy Loss\")\n",
    "plt.xlabel(\"Epoch\")\n",
    "plt.show()"
   ]
  },
  {
   "cell_type": "markdown",
   "metadata": {},
   "source": [
    "### Function which compute the size of compressed and uncompressed model"
   ]
  },
  {
   "cell_type": "code",
   "execution_count": null,
   "metadata": {},
   "outputs": [],
   "source": [
    "import math\n",
    "def getsize(sl):\n",
    "    dir = [x for x in os.listdir(sl)]\n",
    "    csize, usize = 0, 0\n",
    "    for set in dir:\n",
    "        for f in os.listdir(sl + \"/\" + set):\n",
    "            fp = sl + \"/{}/{}\".format(set, f)\n",
    "            csize += os.path.getsize(fp)\n",
    "            usize += 119.6 * math.pow(2, 20) # torch checkpoint same size\n",
    "    return csize, usize"
   ]
  },
  {
   "cell_type": "markdown",
   "metadata": {},
   "source": [
    "### Print compression ratio"
   ]
  },
  {
   "cell_type": "code",
   "execution_count": null,
   "metadata": {},
   "outputs": [],
   "source": [
    "compressed_size, uncompressed_size = getsize(SAVE_LOC)\n",
    "a, b = evaluate_compression(uncompressed_size, compressed_size)\n",
    "# compressed_size, uncompressed_size = getsize(SAVE_LOC_OLC)\n",
    "# a1, b1 = evaluate_compression(uncompressed_size, compressed_size)\n",
    "\n",
    "# print(\"LC-Checkpoint + GZIP\")\n",
    "# print(\"Compression Ratio: {}%, Space Savings: {}%\".format(a1, b1))\n",
    "print(\"LoRA + LC-Checkpoint + GZIP\")\n",
    "print(\"Compression Ratio: {}%, Space Savings: {}%\".format(a, b))"
   ]
  },
  {
   "cell_type": "markdown",
   "metadata": {},
   "source": [
    "### Store data in a dictionary and save it in a file data.json"
   ]
  },
  {
   "cell_type": "code",
   "execution_count": null,
   "metadata": {},
   "outputs": [],
   "source": [
    "import json\n",
    "data = {\n",
    "    \"full_acc\" : full_accuracy,\n",
    "    \"decomposed_restored_accuracy\" : restored_accuracy,\n",
    "    \"decomposed_full_accuracy\" : decomposed_full_accuracy,\n",
    "    \"lc_restored_accuracy\" : lc_accuracy\n",
    "}\n",
    "with open(HDFP + \"/lobranch-snapshot/diffbitwidth-adaptive-rank/vgg16nolite/data.json\", 'w') as f:\n",
    "    json.dump(data, f)"
   ]
  },
  {
   "cell_type": "markdown",
   "metadata": {},
   "source": []
  }
 ],
 "metadata": {
  "kernelspec": {
   "display_name": "Python 3",
   "language": "python",
   "name": "python3"
  },
  "language_info": {
   "codemirror_mode": {
    "name": "ipython",
    "version": 3
   },
   "file_extension": ".py",
   "mimetype": "text/x-python",
   "name": "python",
   "nbconvert_exporter": "python",
   "pygments_lexer": "ipython3",
   "version": "3.10.13"
  }
 },
 "nbformat": 4,
 "nbformat_minor": 2
}
