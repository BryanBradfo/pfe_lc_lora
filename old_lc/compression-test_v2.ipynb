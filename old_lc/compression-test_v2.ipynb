{
 "cells": [
  {
   "cell_type": "code",
   "execution_count": 2,
   "metadata": {},
   "outputs": [],
   "source": [
    "import src.main as lc\n",
    "import torch, os\n",
    "\n",
    "# Filepaths\n",
    "HHD = \"/volumes/Ultra Touch\"\n",
    "MLP_LOC = HHD + \"/MLP/cut\"\n",
    "COMPRESSED_SAVELOC = HHD + \"/MLP/Compressed-test-v2\"\n",
    "DECOMPRESSED_SAVELOC = HHD + \"/MLP/Decompressed-test-v2\"\n",
    "\n",
    "# Base dictionary (for decompressor to understand structure of the model)\n",
    "BASE_DICT = torch.load(MLP_LOC + \"/frame_0.ckpt\")"
   ]
  },
  {
   "cell_type": "markdown",
   "metadata": {},
   "source": [
    "# 1. Compression of MLP model set"
   ]
  },
  {
   "cell_type": "code",
   "execution_count": 5,
   "metadata": {},
   "outputs": [
    {
     "name": "stdout",
     "output_type": "stream",
     "text": [
      "Loading: /volumes/Ultra Touch/MLP/cut/frame_0.ckpt\n",
      "Delta Compression on: frame_1.ckpt\n",
      "Loading: /volumes/Ultra Touch/MLP/cut/frame_1.ckpt\n",
      "Delta Compression on: frame_2.ckpt\n",
      "Loading: /volumes/Ultra Touch/MLP/cut/frame_2.ckpt\n",
      "Delta Compression on: frame_3.ckpt\n",
      "Loading: /volumes/Ultra Touch/MLP/cut/frame_3.ckpt\n",
      "Delta Compression on: frame_4.ckpt\n",
      "Loading: /volumes/Ultra Touch/MLP/cut/frame_4.ckpt\n",
      "Delta Compression on: frame_5.ckpt\n",
      "Loading: /volumes/Ultra Touch/MLP/cut/frame_5.ckpt\n",
      "Delta Compression on: frame_6.ckpt\n",
      "Loading: /volumes/Ultra Touch/MLP/cut/frame_6.ckpt\n",
      "Delta Compression on: frame_7.ckpt\n",
      "Loading: /volumes/Ultra Touch/MLP/cut/frame_7.ckpt\n",
      "Delta Compression on: frame_8.ckpt\n",
      "Loading: /volumes/Ultra Touch/MLP/cut/frame_8.ckpt\n",
      "Delta Compression on: frame_9.ckpt\n",
      "Loading: /volumes/Ultra Touch/MLP/cut/frame_9.ckpt\n",
      "Saving Compressed Format: frame_0.ckpt\n",
      "Saving Compressed Format: frame_1.ckpt\n",
      "Saving Compressed Format: frame_2.ckpt\n",
      "Saving Compressed Format: frame_3.ckpt\n",
      "Saving Compressed Format: frame_4.ckpt\n",
      "Saving Compressed Format: frame_5.ckpt\n",
      "Saving Compressed Format: frame_6.ckpt\n",
      "Saving Compressed Format: frame_7.ckpt\n",
      "Saving Compressed Format: frame_8.ckpt\n",
      "Saving Compressed Format: frame_9.ckpt\n"
     ]
    }
   ],
   "source": [
    "lc.compress_set_torch(MLP_LOC, COMPRESSED_SAVELOC)"
   ]
  },
  {
   "cell_type": "markdown",
   "metadata": {},
   "source": [
    "# 2. Decompression from Compressed Set"
   ]
  },
  {
   "cell_type": "code",
   "execution_count": 6,
   "metadata": {},
   "outputs": [
    {
     "name": "stdout",
     "output_type": "stream",
     "text": [
      "Decompressing for: compressed_frame_0.pt\n",
      "Decompressing for: compressed_frame_1.pt\n",
      "Decompressing for: compressed_frame_2.pt\n",
      "Decompressing for: compressed_frame_3.pt\n",
      "Decompressing for: compressed_frame_4.pt\n",
      "Decompressing for: compressed_frame_5.pt\n",
      "Decompressing for: compressed_frame_6.pt\n",
      "Decompressing for: compressed_frame_7.pt\n",
      "Decompressing for: compressed_frame_8.pt\n",
      "Decompressing for: compressed_frame_9.pt\n",
      "Saving Decompressed Model at: decompressed_frame_0.pt\n",
      "Saving Decompressed Model at: decompressed_frame_1.pt\n",
      "Saving Decompressed Model at: decompressed_frame_2.pt\n",
      "Saving Decompressed Model at: decompressed_frame_3.pt\n",
      "Saving Decompressed Model at: decompressed_frame_4.pt\n",
      "Saving Decompressed Model at: decompressed_frame_5.pt\n",
      "Saving Decompressed Model at: decompressed_frame_6.pt\n",
      "Saving Decompressed Model at: decompressed_frame_7.pt\n",
      "Saving Decompressed Model at: decompressed_frame_8.pt\n",
      "Saving Decompressed Model at: decompressed_frame_9.pt\n"
     ]
    }
   ],
   "source": [
    "lc.load_compressed_set(COMPRESSED_SAVELOC, DECOMPRESSED_SAVELOC, BASE_DICT)"
   ]
  },
  {
   "cell_type": "markdown",
   "metadata": {},
   "source": [
    "# 3. Compression Ratio"
   ]
  },
  {
   "cell_type": "code",
   "execution_count": 7,
   "metadata": {},
   "outputs": [
    {
     "name": "stdout",
     "output_type": "stream",
     "text": [
      "RESULTS\n",
      "Uncompressed MLP File Size (In MB): 21.97774\n",
      "Compressed MLP File Size (In MB): 5.810592\n",
      "Compression Ratio (.ckpt VS LC-Checkpoint):\n",
      "378.2%\n",
      "Space Savings (.ckpt VS LC-Checkpoint):\n",
      "73.6%\n"
     ]
    }
   ],
   "source": [
    "uncompressed_size = sum(os.path.getsize(MLP_LOC + \"/\" + f) for f in os.listdir(MLP_LOC))\n",
    "compressed_size = sum(os.path.getsize(COMPRESSED_SAVELOC + \"/\" + f) for f in os.listdir(COMPRESSED_SAVELOC))\n",
    "\n",
    "print(\"RESULTS\")\n",
    "print(\"Uncompressed MLP File Size (In MB): \" + str(uncompressed_size / (10**6)))\n",
    "print(\"Compressed MLP File Size (In MB): \" + str(compressed_size / (10**6)))\n",
    "\n",
    "# Compression Ratio = uncompressed / compressed\n",
    "\n",
    "print(\"Compression Ratio (.ckpt VS LC-Checkpoint):\")\n",
    "print(\"{}%\".format(round((uncompressed_size / compressed_size), 3) * 100))\n",
    "\n",
    "# Space Savings = 1 - (compressed / uncompressed)\n",
    "\n",
    "print(\"Space Savings (.ckpt VS LC-Checkpoint):\")\n",
    "print(\"{}%\".format(round(1 - (compressed_size / uncompressed_size), 3) * 100))"
   ]
  },
  {
   "cell_type": "markdown",
   "metadata": {},
   "source": [
    "# 5. Save the torch dicts"
   ]
  },
  {
   "cell_type": "code",
   "execution_count": 8,
   "metadata": {},
   "outputs": [],
   "source": [
    "for i in range(0, 10):\n",
    "    compressed = lc.read_decompressed_state_dict(DECOMPRESSED_SAVELOC + \"/decompressed_frame_{}.pt\".format(i))\n",
    "    torch.save(compressed, HHD + \"/MLP/test_v2/frame_{}.pt\".format(i))"
   ]
  },
  {
   "cell_type": "code",
   "execution_count": 9,
   "metadata": {},
   "outputs": [
    {
     "name": "stdout",
     "output_type": "stream",
     "text": [
      "Test original:\n",
      "tensor([-0.1254,  0.4251, -0.4375, -0.7639,  0.2837])\n",
      "Test restored:\n",
      "tensor([-0.1254,  0.4251, -0.4375, -0.7639,  0.2837])\n",
      "Test original:\n",
      "tensor([-0.0327,  0.2432, -0.2558, -0.5822,  0.1019])\n",
      "Test restored:\n",
      "tensor([-0.0295,  0.2147, -0.2122, -0.6136,  0.0597])\n",
      "Test original:\n",
      "tensor([-0.0560,  0.4247, -0.4369, -0.4007,  0.1945])\n",
      "Test restored:\n",
      "tensor([-0.0575,  0.3761, -0.3979, -0.4369,  0.1776])\n",
      "Test original:\n",
      "tensor([-0.0326,  0.2442, -0.1017, -0.7356,  0.2411])\n",
      "Test restored:\n",
      "tensor([-0.0290,  0.1855, -0.1786, -0.7269,  0.2282])\n",
      "Test original:\n",
      "tensor([-0.1245,  0.1524, -0.2765, -0.6440,  0.2178])\n",
      "Test restored:\n",
      "tensor([-0.0953,  0.1610, -0.3166, -0.6131,  0.2118])\n",
      "Test original:\n",
      "tensor([-0.0778,  0.3326, -0.3231, -0.7367,  0.3105])\n",
      "Test restored:\n",
      "tensor([-0.0865,  0.3938, -0.3289, -0.7656,  0.3250])\n",
      "Test original:\n",
      "tensor([-0.0836,  0.1500, -0.2765, -0.5539,  0.2638])\n",
      "Test restored:\n",
      "tensor([-0.0838,  0.2075, -0.2686, -0.5848,  0.2575])\n",
      "Test original:\n",
      "tensor([-0.0602,  0.1033, -0.0942, -0.6468,  0.1709])\n",
      "Test restored:\n",
      "tensor([-0.0541,  0.1074, -0.0658, -0.6186,  0.1844])\n",
      "Test original:\n",
      "tensor([-0.4156,  0.0564, -0.7249, -0.5537,  0.2640])\n",
      "Test restored:\n",
      "tensor([-0.4649,  0.0499, -0.5944, -0.5511,  0.2634])\n",
      "Test original:\n",
      "tensor([-0.7602,  0.3955, -0.6321, -0.3722,  0.2407])\n",
      "Test restored:\n",
      "tensor([-0.6963,  0.3398, -0.6594, -0.3847,  0.2446])\n"
     ]
    }
   ],
   "source": [
    "for i in range(0, 10):\n",
    "    print(\"Test original:\")\n",
    "    print(torch.load(HHD + \"/MLP/test_v2/frame_{}.pt\".format(i))['_model.field_fine.mlp_base.layers.0.weight']\n",
    "          [2][20:25])\n",
    "    print(\"Test restored:\")\n",
    "    print(torch.load(MLP_LOC + \"/frame_{}.ckpt\".format(i), \n",
    "                     map_location = torch.device('cpu'))['_model.field_fine.mlp_base.layers.0.weight']\n",
    "                     [2][20:25])"
   ]
  },
  {
   "cell_type": "code",
   "execution_count": null,
   "metadata": {},
   "outputs": [],
   "source": []
  }
 ],
 "metadata": {
  "kernelspec": {
   "display_name": "Python 3",
   "language": "python",
   "name": "python3"
  },
  "language_info": {
   "codemirror_mode": {
    "name": "ipython",
    "version": 3
   },
   "file_extension": ".py",
   "mimetype": "text/x-python",
   "name": "python",
   "nbconvert_exporter": "python",
   "pygments_lexer": "ipython3",
   "version": "3.10.6"
  }
 },
 "nbformat": 4,
 "nbformat_minor": 2
}
